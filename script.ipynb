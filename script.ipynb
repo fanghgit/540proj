{
 "cells": [
  {
   "cell_type": "code",
   "execution_count": 129,
   "metadata": {
    "collapsed": false
   },
   "outputs": [
    {
     "data": {
      "text/plain": [
       "read (generic function with 1 method)"
      ]
     },
     "execution_count": 129,
     "metadata": {},
     "output_type": "execute_result"
    }
   ],
   "source": [
    "include(\"code/readData.jl\")"
   ]
  },
  {
   "cell_type": "code",
   "execution_count": 130,
   "metadata": {
    "collapsed": false
   },
   "outputs": [
    {
     "data": {
      "text/plain": [
       "5400×102 SparseMatrixCSC{Float64,Int64} with 17337 stored entries:\n",
       "  [1   ,    1]  =  1.0\n",
       "  [2   ,    1]  =  1.0\n",
       "  [18  ,    1]  =  1.0\n",
       "  [23  ,    1]  =  1.0\n",
       "  [49  ,    1]  =  1.0\n",
       "  [66  ,    1]  =  1.0\n",
       "  [94  ,    1]  =  1.0\n",
       "  [96  ,    1]  =  1.0\n",
       "  [98  ,    1]  =  1.0\n",
       "  [109 ,    1]  =  1.0\n",
       "  ⋮\n",
       "  [92  ,   97]  =  1.0\n",
       "  [2732,   97]  =  1.0\n",
       "  [2752,   97]  =  1.0\n",
       "  [93  ,   98]  =  1.0\n",
       "  [2795,   98]  =  1.0\n",
       "  [94  ,   99]  =  1.0\n",
       "  [2776,   99]  =  1.0\n",
       "  [4287,   99]  =  1.0\n",
       "  [95  ,  100]  =  1.0\n",
       "  [2796,  100]  =  1.0\n",
       "  [2798,  102]  =  1.0"
      ]
     },
     "execution_count": 130,
     "metadata": {},
     "output_type": "execute_result"
    }
   ],
   "source": [
    "X, Y = read(\"data/rcv1/train_remap.txt\");\n",
    "K = size(Y, 1)\n",
    "A = read_cat_hier(\"data/rcv1/hr_remap.txt\",K)\n",
    "Y = Y'"
   ]
  },
  {
   "cell_type": "code",
   "execution_count": 131,
   "metadata": {
    "collapsed": false
   },
   "outputs": [
    {
     "name": "stdout",
     "output_type": "stream",
     "text": [
      "(5400, 47235)\n",
      "(5400, 102)\n"
     ]
    },
    {
     "data": {
      "text/plain": [
       "102"
      ]
     },
     "execution_count": 131,
     "metadata": {},
     "output_type": "execute_result"
    }
   ],
   "source": [
    "println(size(X))\n",
    "println(size(Y))\n",
    "N, D = size(X)\n",
    "X = [ones(N) X]\n",
    "K = size(Y,2)"
   ]
  },
  {
   "cell_type": "code",
   "execution_count": 47,
   "metadata": {
    "collapsed": false
   },
   "outputs": [
    {
     "data": {
      "text/plain": [
       "SparseMatrixCSC{Float64,Int64}"
      ]
     },
     "execution_count": 47,
     "metadata": {},
     "output_type": "execute_result"
    }
   ],
   "source": [
    "typeof(X)"
   ]
  },
  {
   "cell_type": "code",
   "execution_count": 40,
   "metadata": {
    "collapsed": false
   },
   "outputs": [
    {
     "data": {
      "text/plain": [
       "([3], [1])"
      ]
     },
     "execution_count": 40,
     "metadata": {},
     "output_type": "execute_result"
    }
   ],
   "source": [
    "findnz(A1)"
   ]
  },
  {
   "cell_type": "code",
   "execution_count": 4,
   "metadata": {
    "collapsed": false
   },
   "outputs": [
    {
     "data": {
      "text/plain": [
       "linesearch (generic function with 4 methods)"
      ]
     },
     "execution_count": 4,
     "metadata": {},
     "output_type": "execute_result"
    }
   ],
   "source": [
    "include(\"code/misc.jl\")"
   ]
  },
  {
   "cell_type": "code",
   "execution_count": 7,
   "metadata": {
    "collapsed": false
   },
   "outputs": [
    {
     "data": {
      "text/plain": [
       "0.1"
      ]
     },
     "execution_count": 7,
     "metadata": {},
     "output_type": "execute_result"
    }
   ],
   "source": [
    "W = zeros(D, K)\n",
    "C = 1\n",
    "lambda = 0.1\n",
    "#obj(X,Y,W,adj_mat,C,lambda)"
   ]
  },
  {
   "cell_type": "code",
   "execution_count": 14,
   "metadata": {
    "collapsed": false
   },
   "outputs": [
    {
     "name": "stdout",
     "output_type": "stream",
     "text": [
      "get gradient complete\n",
      "obj complete\n",
      "prox complete\n",
      "prox complete\n",
      "prox complete\n",
      "prox complete\n",
      "prox complete\n",
      "prox complete\n",
      "prox complete\n",
      "prox complete\n",
      "prox complete\n",
      "prox complete\n",
      "stepsize: 0.001953125\n",
      "iter 1 finished!\n",
      "get gradient complete\n",
      "obj complete\n",
      "prox complete\n",
      "prox complete\n",
      "prox complete\n",
      "prox complete\n",
      "prox complete\n",
      "prox complete\n",
      "prox complete\n",
      "prox complete\n",
      "prox complete\n",
      "prox complete\n",
      "stepsize: 0.001953125\n",
      "iter 2 finished!\n",
      "get gradient complete\n",
      "obj complete\n",
      "prox complete\n",
      "prox complete\n",
      "prox complete\n",
      "prox complete\n",
      "prox complete\n"
     ]
    },
    {
     "ename": "LoadError",
     "evalue": "\u001b[91mInterruptException:\u001b[39m",
     "output_type": "error",
     "traceback": [
      "\u001b[91mInterruptException:\u001b[39m",
      "",
      "Stacktrace:",
      " [1] \u001b[1mbroadcast_t\u001b[22m\u001b[22m at \u001b[1m./broadcast.jl:268\u001b[22m\u001b[22m [inlined]",
      " [2] \u001b[1mbroadcast_c\u001b[22m\u001b[22m at \u001b[1m./broadcast.jl:316\u001b[22m\u001b[22m [inlined]",
      " [3] \u001b[1mbroadcast\u001b[22m\u001b[22m at \u001b[1m./broadcast.jl:455\u001b[22m\u001b[22m [inlined]",
      " [4] \u001b[1m-\u001b[22m\u001b[22m\u001b[1m(\u001b[22m\u001b[22m::Array{Float64,1}, ::Array{Float64,1}\u001b[1m)\u001b[22m\u001b[22m at \u001b[1m./arraymath.jl:39\u001b[22m\u001b[22m",
      " [5] \u001b[1mobj\u001b[22m\u001b[22m\u001b[1m(\u001b[22m\u001b[22m::SparseMatrixCSC{Float64,Int64}, ::SparseMatrixCSC{Float64,Int64}, ::Array{Float64,2}, ::SparseMatrixCSC{Float64,Int64}, ::Int64, ::Float64\u001b[1m)\u001b[22m\u001b[22m at \u001b[1m/Users/fangh/academic/540proj/code/misc.jl:30\u001b[22m\u001b[22m",
      " [6] \u001b[1mproximal_gradient\u001b[22m\u001b[22m\u001b[1m(\u001b[22m\u001b[22m::SparseMatrixCSC{Float64,Int64}, ::SparseMatrixCSC{Float64,Int64}, ::SparseMatrixCSC{Float64,Int64}, ::Int64, ::Float64, ::Float64, ::Int64, ::Int64\u001b[1m)\u001b[22m\u001b[22m at \u001b[1m/Users/fangh/academic/540proj/code/prox_newton.jl:181\u001b[22m\u001b[22m",
      " [7] \u001b[1mproximal_gradient\u001b[22m\u001b[22m\u001b[1m(\u001b[22m\u001b[22m::SparseMatrixCSC{Float64,Int64}, ::SparseMatrixCSC{Float64,Int64}, ::SparseMatrixCSC{Float64,Int64}, ::Int64, ::Float64\u001b[1m)\u001b[22m\u001b[22m at \u001b[1m/Users/fangh/academic/540proj/code/prox_newton.jl:143\u001b[22m\u001b[22m",
      " [8] \u001b[1minclude_string\u001b[22m\u001b[22m\u001b[1m(\u001b[22m\u001b[22m::String, ::String\u001b[1m)\u001b[22m\u001b[22m at \u001b[1m./loading.jl:522\u001b[22m\u001b[22m"
     ]
    }
   ],
   "source": []
  },
  {
   "cell_type": "code",
   "execution_count": 28,
   "metadata": {
    "collapsed": false
   },
   "outputs": [
    {
     "data": {
      "text/plain": [
       "1.0"
      ]
     },
     "execution_count": 28,
     "metadata": {},
     "output_type": "execute_result"
    }
   ],
   "source": [
    "sum(Y[:,3])"
   ]
  },
  {
   "cell_type": "code",
   "execution_count": 29,
   "metadata": {
    "collapsed": false
   },
   "outputs": [
    {
     "data": {
      "text/plain": [
       "5×5 Array{Float64,2}:\n",
       " 1.0  0.0  0.0  0.0  0.0\n",
       " 0.0  1.0  0.0  0.0  0.0\n",
       " 0.0  0.0  1.0  0.0  0.0\n",
       " 0.0  0.0  0.0  1.0  0.0\n",
       " 0.0  0.0  0.0  0.0  1.0"
      ]
     },
     "execution_count": 29,
     "metadata": {},
     "output_type": "execute_result"
    }
   ],
   "source": [
    "eye(5)"
   ]
  },
  {
   "cell_type": "code",
   "execution_count": 3,
   "metadata": {
    "collapsed": false
   },
   "outputs": [
    {
     "name": "stdout",
     "output_type": "stream",
     "text": [
      "(2807, 371)\n",
      "(2807, 329)\n"
     ]
    },
    {
     "data": {
      "text/plain": [
       "329"
      ]
     },
     "execution_count": 3,
     "metadata": {},
     "output_type": "execute_result"
    }
   ],
   "source": [
    "X, Y = read(\"data/diatoms/train_remap.txt\");\n",
    "K = size(Y, 1)\n",
    "adj_mat = read_cat_hier(\"data/diatoms/hr_remap.txt\", K)\n",
    "Y = Y'\n",
    "println(size(X))\n",
    "println(size(Y))\n",
    "N, D = size(X)\n",
    "X = [ones(N) X]\n",
    "K = size(Y,2)"
   ]
  },
  {
   "cell_type": "code",
   "execution_count": 23,
   "metadata": {
    "collapsed": false
   },
   "outputs": [
    {
     "data": {
      "text/plain": [
       "100×5 SparseMatrixCSC{Float64,Int64} with 11 stored entries:\n",
       "  [1  ,   1]  =  1.0\n",
       "  [2  ,   2]  =  1.0\n",
       "  [3  ,   3]  =  1.0\n",
       "  [4  ,   4]  =  1.0\n",
       "  [15 ,   4]  =  1.0\n",
       "  [17 ,   4]  =  1.0\n",
       "  [22 ,   4]  =  1.0\n",
       "  [66 ,   4]  =  1.0\n",
       "  [67 ,   4]  =  1.0\n",
       "  [75 ,   4]  =  1.0\n",
       "  [95 ,   4]  =  1.0"
      ]
     },
     "execution_count": 23,
     "metadata": {},
     "output_type": "execute_result"
    }
   ],
   "source": [
    "# K = 5\n",
    "# D = 50\n",
    "# N = 100\n",
    "# X = X[1:N,1:D]\n",
    "# A = adj_mat[5:(4+K),5:(4+K)]\n",
    "# A = [0 1 0 0 0;\n",
    "#      1 0 1 0 0\n",
    "#      0 1 0 0 1\n",
    "#      0 0 0 0 0\n",
    "#      0 0 1 0 0]\n",
    "# A = sparse(A)\n",
    "# Y = Y[1:N, 1:K]"
   ]
  },
  {
   "cell_type": "code",
   "execution_count": 33,
   "metadata": {
    "collapsed": false
   },
   "outputs": [
    {
     "data": {
      "text/plain": [
       "0.0"
      ]
     },
     "execution_count": 33,
     "metadata": {},
     "output_type": "execute_result"
    }
   ],
   "source": [
    "#kron(A,eye(3))\n",
    "vecnorm(A - A')"
   ]
  },
  {
   "cell_type": "code",
   "execution_count": 134,
   "metadata": {
    "collapsed": false
   },
   "outputs": [
    {
     "name": "stdout",
     "output_type": "stream",
     "text": [
      "size of active set: 2317693\n",
      "start coordinate descent!\n",
      "time: 3.663324, obj_old: 550800.000000, obj_new: 98169.788608 \n",
      "size of active set: 2123946\n",
      "start coordinate descent!\n",
      "time: 20.225817, obj_old: 98169.788608, obj_new: 40155.086916 \n",
      "size of active set: 1895865\n",
      "start coordinate descent!\n",
      "time: 32.918900, obj_old: 40155.086916, obj_new: 22086.822383 \n",
      "size of active set: 1586269\n",
      "start coordinate descent!\n",
      "time: 43.565245, obj_old: 22086.822383, obj_new: 15111.825974 \n",
      "size of active set: 1333007\n",
      "start coordinate descent!\n",
      "time: 52.921921, obj_old: 15111.825974, obj_new: 11465.598464 \n",
      "size of active set: 1077952\n",
      "start coordinate descent!\n",
      "time: 61.116550, obj_old: 11465.598464, obj_new: 9570.773909 \n",
      "size of active set: 904735\n",
      "start coordinate descent!\n",
      "time: 68.577031, obj_old: 9570.773909, obj_new: 8461.419052 \n",
      "size of active set: 759008\n",
      "start coordinate descent!\n",
      "time: 75.118237, obj_old: 8461.419052, obj_new: 7811.062620 \n",
      "size of active set: 662849\n",
      "start coordinate descent!\n",
      "time: 81.126217, obj_old: 7811.062620, obj_new: 7394.855045 \n",
      "size of active set: 593450\n",
      "start coordinate descent!\n",
      "time: 86.728912, obj_old: 7394.855045, obj_new: 7123.559091 \n",
      "size of active set: 542561\n",
      "start coordinate descent!\n",
      "time: 92.106460, obj_old: 7123.559091, obj_new: 6928.683601 \n",
      "size of active set: 510352\n",
      "start coordinate descent!\n",
      "time: 97.364102, obj_old: 6928.683601, obj_new: 6791.390262 \n",
      "size of active set: 485400\n",
      "start coordinate descent!\n",
      "time: 102.344919, obj_old: 6791.390262, obj_new: 6683.800851 \n",
      "size of active set: 465248\n",
      "start coordinate descent!\n",
      "time: 107.532868, obj_old: 6683.800851, obj_new: 6598.839949 \n",
      "size of active set: 452468\n",
      "start coordinate descent!\n",
      "time: 112.600319, obj_old: 6598.839949, obj_new: 6530.109997 \n",
      "size of active set: 440174\n",
      "start coordinate descent!\n",
      "time: 118.626167, obj_old: 6530.109997, obj_new: 6472.924118 \n",
      "size of active set: 435113\n",
      "start coordinate descent!\n",
      "time: 124.049526, obj_old: 6472.924118, obj_new: 6423.074943 \n",
      "size of active set: 423282\n",
      "start coordinate descent!\n",
      "time: 128.571150, obj_old: 6423.074943, obj_new: 6380.360585 \n",
      "size of active set: 416300\n",
      "start coordinate descent!\n",
      "time: 133.378116, obj_old: 6380.360585, obj_new: 6342.382749 \n",
      "size of active set: 414052\n",
      "start coordinate descent!\n",
      "time: 138.098241, obj_old: 6342.382749, obj_new: 6308.437525 \n",
      "size of active set: 407321\n",
      "start coordinate descent!\n",
      "time: 142.984615, obj_old: 6308.437525, obj_new: 6278.252573 \n",
      "size of active set: 405007\n",
      "start coordinate descent!\n",
      "time: 148.663723, obj_old: 6278.252573, obj_new: 6248.545385 \n",
      "size of active set: 397544\n",
      "start coordinate descent!\n",
      "time: 153.778439, obj_old: 6248.545385, obj_new: 6222.364259 \n",
      "size of active set: 393956\n",
      "start coordinate descent!\n",
      "time: 160.402283, obj_old: 6222.364259, obj_new: 6198.539516 \n",
      "size of active set: 391138\n",
      "start coordinate descent!\n",
      "time: 166.308313, obj_old: 6198.539516, obj_new: 6176.257334 \n",
      "size of active set: 388530\n",
      "start coordinate descent!\n",
      "time: 170.959637, obj_old: 6176.257334, obj_new: 6155.041825 \n",
      "size of active set: 385629\n",
      "start coordinate descent!\n",
      "time: 175.548004, obj_old: 6155.041825, obj_new: 6135.222943 \n",
      "size of active set: 386167\n",
      "start coordinate descent!\n",
      "time: 179.936410, obj_old: 6135.222943, obj_new: 6115.817464 \n",
      "size of active set: 381470\n",
      "start coordinate descent!\n",
      "time: 184.531572, obj_old: 6115.817464, obj_new: 6097.481742 \n",
      "size of active set: 378518\n",
      "start coordinate descent!\n",
      "time: 188.802322, obj_old: 6097.481742, obj_new: 6080.471357 \n",
      "size of active set: 377387\n",
      "start coordinate descent!\n",
      "time: 193.314468, obj_old: 6080.471357, obj_new: 6064.128833 \n",
      "size of active set: 375453\n",
      "start coordinate descent!\n",
      "time: 197.600225, obj_old: 6064.128833, obj_new: 6048.261920 \n",
      "size of active set: 373524\n",
      "start coordinate descent!\n",
      "time: 202.222810, obj_old: 6048.261920, obj_new: 6033.185233 \n",
      "size of active set: 371866\n",
      "start coordinate descent!\n",
      "time: 206.909897, obj_old: 6033.185233, obj_new: 6018.672072 \n",
      "size of active set: 370068\n",
      "start coordinate descent!\n",
      "time: 211.120358, obj_old: 6018.672072, obj_new: 6004.842259 \n",
      "size of active set: 368893\n",
      "start coordinate descent!\n",
      "time: 215.277348, obj_old: 6004.842259, obj_new: 5991.631458 \n",
      "size of active set: 367955\n",
      "start coordinate descent!\n",
      "time: 219.755204, obj_old: 5991.631458, obj_new: 5978.209760 \n",
      "size of active set: 365406\n",
      "start coordinate descent!\n",
      "time: 223.896056, obj_old: 5978.209760, obj_new: 5965.681065 \n",
      "size of active set: 363827\n",
      "start coordinate descent!\n",
      "time: 228.125576, obj_old: 5965.681065, obj_new: 5953.498031 \n",
      "size of active set: 363567\n",
      "start coordinate descent!\n",
      "time: 232.346955, obj_old: 5953.498031, obj_new: 5941.773822 \n",
      "size of active set: 362075\n",
      "start coordinate descent!\n",
      "time: 237.615587, obj_old: 5941.773822, obj_new: 5930.310852 \n",
      "size of active set: 361049\n",
      "start coordinate descent!\n",
      "time: 242.844613, obj_old: 5930.310852, obj_new: 5919.059136 \n",
      "size of active set: 360756\n",
      "start coordinate descent!\n",
      "time: 247.316444, obj_old: 5919.059136, obj_new: 5908.014041 \n",
      "size of active set: 358856\n",
      "start coordinate descent!\n",
      "time: 251.844251, obj_old: 5908.014041, obj_new: 5897.409783 \n",
      "size of active set: 357854\n",
      "start coordinate descent!\n",
      "time: 256.093621, obj_old: 5897.409783, obj_new: 5887.366219 \n",
      "size of active set: 357062\n",
      "start coordinate descent!\n",
      "time: 260.337081, obj_old: 5887.366219, obj_new: 5877.550469 \n",
      "size of active set: 356956\n",
      "start coordinate descent!\n",
      "time: 264.614393, obj_old: 5877.550469, obj_new: 5867.841590 \n",
      "size of active set: 355486\n",
      "start coordinate descent!\n",
      "time: 268.880595, obj_old: 5867.841590, obj_new: 5858.377382 \n",
      "size of active set: 354720\n",
      "start coordinate descent!\n",
      "time: 273.202753, obj_old: 5858.377382, obj_new: 5849.339498 \n",
      "size of active set: 353404\n",
      "start coordinate descent!\n",
      "time: 277.491829, obj_old: 5849.339498, obj_new: 5840.330839 \n",
      "size of active set: 352690\n",
      "start coordinate descent!\n",
      "time: 281.720729, obj_old: 5840.330839, obj_new: 5831.719507 \n",
      "size of active set: 351691\n",
      "start coordinate descent!\n",
      "time: 286.013549, obj_old: 5831.719507, obj_new: 5823.204240 \n",
      "size of active set: 350110\n",
      "start coordinate descent!\n",
      "time: 290.259612, obj_old: 5823.204240, obj_new: 5814.935505 \n",
      "size of active set: 349477\n",
      "start coordinate descent!\n",
      "time: 294.594872, obj_old: 5814.935505, obj_new: 5806.896065 \n",
      "size of active set: 348901\n",
      "start coordinate descent!\n",
      "time: 298.819736, obj_old: 5806.896065, obj_new: 5799.022783 \n",
      "size of active set: 347659\n",
      "start coordinate descent!\n",
      "time: 302.875433, obj_old: 5799.022783, obj_new: 5791.491872 \n",
      "size of active set: 347436\n",
      "start coordinate descent!\n",
      "time: 306.998711, obj_old: 5791.491872, obj_new: 5784.239013 \n",
      "size of active set: 346904\n",
      "start coordinate descent!\n",
      "time: 311.096544, obj_old: 5784.239013, obj_new: 5777.065695 \n",
      "size of active set: 345931\n",
      "start coordinate descent!\n",
      "time: 315.288588, obj_old: 5777.065695, obj_new: 5770.131813 \n",
      "size of active set: 345613\n",
      "start coordinate descent!\n",
      "time: 319.418024, obj_old: 5770.131813, obj_new: 5763.220657 \n",
      "size of active set: 344557\n",
      "start coordinate descent!\n",
      "time: 323.619734, obj_old: 5763.220657, obj_new: 5756.585525 \n",
      "size of active set: 344201\n",
      "start coordinate descent!\n",
      "time: 327.784335, obj_old: 5756.585525, obj_new: 5750.090431 \n",
      "size of active set: 343246\n",
      "start coordinate descent!\n",
      "time: 331.810347, obj_old: 5750.090431, obj_new: 5743.787601 \n",
      "size of active set: 342482\n",
      "start coordinate descent!\n",
      "time: 335.751071, obj_old: 5743.787601, obj_new: 5737.669394 \n",
      "size of active set: 342024\n",
      "start coordinate descent!\n",
      "time: 340.169837, obj_old: 5737.669394, obj_new: 5731.738918 \n",
      "size of active set: 341573\n",
      "start coordinate descent!\n",
      "time: 345.530961, obj_old: 5731.738918, obj_new: 5725.861907 \n",
      "size of active set: 340958\n",
      "start coordinate descent!\n",
      "time: 349.961218, obj_old: 5725.861907, obj_new: 5720.163932 \n",
      "size of active set: 340471\n",
      "start coordinate descent!\n",
      "time: 353.936869, obj_old: 5720.163932, obj_new: 5714.547461 \n",
      "size of active set: 339960\n",
      "start coordinate descent!\n",
      "time: 357.846184, obj_old: 5714.547461, obj_new: 5709.077814 \n",
      "size of active set: 339251\n",
      "start coordinate descent!\n",
      "time: 361.796942, obj_old: 5709.077814, obj_new: 5703.802947 \n",
      "size of active set: 338922\n",
      "start coordinate descent!\n",
      "time: 365.694928, obj_old: 5703.802947, obj_new: 5698.562042 \n",
      "size of active set: 338294\n",
      "start coordinate descent!\n",
      "time: 369.594876, obj_old: 5698.562042, obj_new: 5693.579932 \n",
      "size of active set: 337970\n",
      "start coordinate descent!\n",
      "time: 373.527756, obj_old: 5693.579932, obj_new: 5688.541621 \n",
      "size of active set: 337326\n",
      "start coordinate descent!\n",
      "time: 377.428356, obj_old: 5688.541621, obj_new: 5683.726575 \n",
      "size of active set: 336771\n",
      "start coordinate descent!\n",
      "time: 381.421072, obj_old: 5683.726575, obj_new: 5679.033565 \n",
      "size of active set: 336224\n",
      "start coordinate descent!\n",
      "time: 385.334650, obj_old: 5679.033565, obj_new: 5674.481028 \n",
      "size of active set: 336493\n",
      "start coordinate descent!\n",
      "time: 389.318921, obj_old: 5674.481028, obj_new: 5670.002886 \n",
      "size of active set: 335400\n",
      "start coordinate descent!\n",
      "time: 393.991514, obj_old: 5670.002886, obj_new: 5665.681307 \n",
      "size of active set: 335394\n",
      "start coordinate descent!\n",
      "time: 398.890670, obj_old: 5665.681307, obj_new: 5661.467323 \n",
      "size of active set: 334991\n",
      "start coordinate descent!\n",
      "time: 403.708105, obj_old: 5661.467323, obj_new: 5657.351520 \n",
      "size of active set: 334595\n",
      "start coordinate descent!\n",
      "time: 408.157589, obj_old: 5657.351520, obj_new: 5653.188884 \n",
      "size of active set: 333704\n",
      "start coordinate descent!\n",
      "time: 412.375212, obj_old: 5653.188884, obj_new: 5649.267086 \n",
      "size of active set: 333533\n",
      "start coordinate descent!\n",
      "time: 416.389753, obj_old: 5649.267086, obj_new: 5645.382294 \n",
      "size of active set: 333183\n",
      "start coordinate descent!\n",
      "time: 420.351038, obj_old: 5645.382294, obj_new: 5641.548197 \n",
      "size of active set: 332512\n",
      "start coordinate descent!\n",
      "time: 424.457364, obj_old: 5641.548197, obj_new: 5637.872687 \n",
      "size of active set: 332199\n",
      "start coordinate descent!\n",
      "time: 428.622149, obj_old: 5637.872687, obj_new: 5634.283526 \n",
      "size of active set: 331763\n",
      "start coordinate descent!\n",
      "time: 432.723086, obj_old: 5634.283526, obj_new: 5630.764004 \n",
      "size of active set: 331229\n",
      "start coordinate descent!\n",
      "time: 437.405866, obj_old: 5630.764004, obj_new: 5627.374275 \n",
      "size of active set: 331126\n",
      "start coordinate descent!\n",
      "time: 441.442054, obj_old: 5627.374275, obj_new: 5623.990536 \n",
      "size of active set: 330467\n",
      "start coordinate descent!\n",
      "time: 445.264228, obj_old: 5623.990536, obj_new: 5620.684249 \n",
      "size of active set: 330058\n",
      "start coordinate descent!\n",
      "time: 449.151343, obj_old: 5620.684249, obj_new: 5617.454304 \n",
      "size of active set: 329638\n",
      "start coordinate descent!\n",
      "time: 453.001459, obj_old: 5617.454304, obj_new: 5614.369021 \n",
      "size of active set: 329556\n",
      "start coordinate descent!\n",
      "time: 456.795071, obj_old: 5614.369021, obj_new: 5611.309170 \n",
      "size of active set: 329237\n",
      "start coordinate descent!\n",
      "time: 460.621346, obj_old: 5611.309170, obj_new: 5608.364015 \n",
      "size of active set: 329106\n",
      "start coordinate descent!\n",
      "time: 464.506462, obj_old: 5608.364015, obj_new: 5605.400956 \n",
      "size of active set: 328681\n",
      "start coordinate descent!\n",
      "time: 468.359254, obj_old: 5605.400956, obj_new: 5602.556651 \n",
      "size of active set: 328384\n",
      "start coordinate descent!\n",
      "time: 472.138618, obj_old: 5602.556651, obj_new: 5599.753661 \n",
      "size of active set: 328127\n",
      "start coordinate descent!\n",
      "time: 475.851626, obj_old: 5599.753661, obj_new: 5597.007936 \n",
      "size of active set: 327597\n",
      "start coordinate descent!\n",
      "time: 479.677318, obj_old: 5597.007936, obj_new: 5594.348033 \n",
      "size of active set: 327569\n",
      "start coordinate descent!\n",
      "time: 483.913498, obj_old: 5594.348033, obj_new: 5591.728813 \n",
      "size of active set: 327361\n",
      "start coordinate descent!\n",
      "time: 487.960389, obj_old: 5591.728813, obj_new: 5589.204909 \n",
      "size of active set: 326949\n",
      "start coordinate descent!\n",
      "time: 491.746989, obj_old: 5589.204909, obj_new: 5586.689535 \n",
      "size of active set: 326535\n",
      "start coordinate descent!\n",
      "time: 495.622830, obj_old: 5586.689535, obj_new: 5584.264291 \n",
      "size of active set: 326411\n",
      "start coordinate descent!\n",
      "time: 499.478971, obj_old: 5584.264291, obj_new: 5581.864768 \n",
      "size of active set: 326029\n",
      "start coordinate descent!\n",
      "time: 503.234620, obj_old: 5581.864768, obj_new: 5579.577006 \n",
      "size of active set: 326138\n",
      "start coordinate descent!\n",
      "time: 507.050078, obj_old: 5579.577006, obj_new: 5577.314852 \n",
      "size of active set: 325717\n",
      "start coordinate descent!\n",
      "time: 510.948240, obj_old: 5577.314852, obj_new: 5575.053173 \n",
      "size of active set: 325307\n",
      "start coordinate descent!\n",
      "time: 514.775074, obj_old: 5575.053173, obj_new: 5572.880626 \n",
      "size of active set: 325350\n",
      "start coordinate descent!\n",
      "time: 518.542891, obj_old: 5572.880626, obj_new: 5570.758420 \n",
      "size of active set: 325087\n",
      "start coordinate descent!\n",
      "time: 522.419177, obj_old: 5570.758420, obj_new: 5568.673353 \n",
      "size of active set: 324818\n",
      "start coordinate descent!\n",
      "time: 526.223326, obj_old: 5568.673353, obj_new: 5566.640139 \n",
      "size of active set: 324771\n",
      "start coordinate descent!\n",
      "time: 530.056475, obj_old: 5566.640139, obj_new: 5564.649538 \n",
      "size of active set: 324350\n",
      "start coordinate descent!\n",
      "time: 533.780655, obj_old: 5564.649538, obj_new: 5562.671222 \n",
      "size of active set: 324222\n",
      "start coordinate descent!\n",
      "time: 537.472100, obj_old: 5562.671222, obj_new: 5560.775913 \n",
      "size of active set: 323978\n",
      "start coordinate descent!\n",
      "time: 541.283478, obj_old: 5560.775913, obj_new: 5558.908955 \n",
      "size of active set: 323994\n",
      "start coordinate descent!\n",
      "time: 545.042201, obj_old: 5558.908955, obj_new: 5557.090351 \n",
      "size of active set: 324046\n",
      "start coordinate descent!\n",
      "time: 548.780368, obj_old: 5557.090351, obj_new: 5555.291452 \n",
      "size of active set: 323679\n",
      "start coordinate descent!\n",
      "time: 552.464348, obj_old: 5555.291452, obj_new: 5553.538463 \n",
      "size of active set: 323545\n",
      "start coordinate descent!\n",
      "time: 556.209305, obj_old: 5553.538463, obj_new: 5551.821683 \n",
      "size of active set: 323075\n",
      "start coordinate descent!\n",
      "time: 559.932085, obj_old: 5551.821683, obj_new: 5550.130160 \n",
      "size of active set: 322727\n",
      "start coordinate descent!\n",
      "time: 563.655443, obj_old: 5550.130160, obj_new: 5548.489026 \n",
      "size of active set: 322655\n",
      "start coordinate descent!\n",
      "time: 567.317160, obj_old: 5548.489026, obj_new: 5546.879934 \n",
      "size of active set: 322451\n",
      "start coordinate descent!\n",
      "time: 571.073631, obj_old: 5546.879934, obj_new: 5545.305203 \n",
      "size of active set: 322170\n",
      "start coordinate descent!\n",
      "time: 575.516776, obj_old: 5545.305203, obj_new: 5543.788841 \n",
      "size of active set: 322381\n",
      "start coordinate descent!\n",
      "time: 579.759872, obj_old: 5543.788841, obj_new: 5542.274378 \n",
      "size of active set: 322068\n",
      "start coordinate descent!\n",
      "time: 583.800179, obj_old: 5542.274378, obj_new: 5540.777324 \n",
      "size of active set: 321777\n",
      "start coordinate descent!\n",
      "time: 587.798480, obj_old: 5540.777324, obj_new: 5539.361693 \n",
      "size of active set: 321656\n",
      "start coordinate descent!\n",
      "time: 591.708768, obj_old: 5539.361693, obj_new: 5537.928554 \n",
      "size of active set: 321290\n",
      "start coordinate descent!\n",
      "time: 595.573688, obj_old: 5537.928554, obj_new: 5536.528700 \n",
      "size of active set: 321112\n",
      "start coordinate descent!\n",
      "time: 600.188214, obj_old: 5536.528700, obj_new: 5535.166901 \n",
      "size of active set: 321090\n",
      "start coordinate descent!\n",
      "time: 604.373462, obj_old: 5535.166901, obj_new: 5533.852146 \n",
      "size of active set: 320843\n",
      "start coordinate descent!\n",
      "time: 608.538678, obj_old: 5533.852146, obj_new: 5532.538301 \n",
      "size of active set: 320688\n",
      "start coordinate descent!\n",
      "time: 612.328931, obj_old: 5532.538301, obj_new: 5531.258693 \n",
      "size of active set: 320762\n",
      "start coordinate descent!\n",
      "time: 616.074627, obj_old: 5531.258693, obj_new: 5529.995251 \n",
      "size of active set: 320184\n",
      "start coordinate descent!\n",
      "time: 620.311070, obj_old: 5529.995251, obj_new: 5528.798678 \n",
      "size of active set: 320313\n",
      "start coordinate descent!\n",
      "time: 625.202601, obj_old: 5528.798678, obj_new: 5527.603924 \n",
      "size of active set: 320273\n",
      "start coordinate descent!\n",
      "time: 629.609949, obj_old: 5527.603924, obj_new: 5526.415619 \n",
      "size of active set: 319996\n",
      "start coordinate descent!\n",
      "time: 633.619156, obj_old: 5526.415619, obj_new: 5525.263187 \n",
      "size of active set: 319878\n",
      "start coordinate descent!\n",
      "time: 637.878612, obj_old: 5525.263187, obj_new: 5524.139778 \n",
      "size of active set: 319861\n",
      "start coordinate descent!\n",
      "time: 642.047973, obj_old: 5524.139778, obj_new: 5523.037602 \n",
      "size of active set: 319607\n",
      "start coordinate descent!\n",
      "time: 646.031253, obj_old: 5523.037602, obj_new: 5521.949927 \n",
      "size of active set: 319287\n",
      "start coordinate descent!\n",
      "time: 650.187921, obj_old: 5521.949927, obj_new: 5520.896958 \n",
      "size of active set: 319262\n",
      "start coordinate descent!\n",
      "time: 654.595800, obj_old: 5520.896958, obj_new: 5519.858991 \n",
      "size of active set: 319293\n",
      "start coordinate descent!\n",
      "time: 658.910594, obj_old: 5519.858991, obj_new: 5518.864903 \n",
      "size of active set: 319124\n",
      "start coordinate descent!\n",
      "time: 662.791915, obj_old: 5518.864903, obj_new: 5517.844797 \n",
      "size of active set: 318847\n",
      "start coordinate descent!\n",
      "time: 666.512946, obj_old: 5517.844797, obj_new: 5516.863796 \n",
      "size of active set: 318648\n",
      "start coordinate descent!\n",
      "time: 670.257709, obj_old: 5516.863796, obj_new: 5515.921218 \n",
      "size of active set: 318567\n",
      "start coordinate descent!\n",
      "time: 674.005207, obj_old: 5515.921218, obj_new: 5514.990070 \n",
      "size of active set: 318320\n",
      "start coordinate descent!\n",
      "time: 677.717770, obj_old: 5514.990070, obj_new: 5514.065867 \n",
      "size of active set: 318291\n",
      "start coordinate descent!\n",
      "time: 681.485233, obj_old: 5514.065867, obj_new: 5513.195600 \n",
      "size of active set: 318426\n",
      "start coordinate descent!\n",
      "time: 685.147450, obj_old: 5513.195600, obj_new: 5512.313814 \n",
      "size of active set: 318103\n",
      "start coordinate descent!\n",
      "time: 688.838615, obj_old: 5512.313814, obj_new: 5511.432277 \n",
      "size of active set: 317892\n",
      "start coordinate descent!\n",
      "time: 692.686844, obj_old: 5511.432277, obj_new: 5510.595031 \n",
      "size of active set: 317765\n",
      "start coordinate descent!\n",
      "time: 696.427620, obj_old: 5510.595031, obj_new: 5509.761695 \n",
      "size of active set: 317692\n",
      "start coordinate descent!\n",
      "time: 700.083591, obj_old: 5509.761695, obj_new: 5508.959109 \n",
      "size of active set: 317499\n",
      "start coordinate descent!\n",
      "time: 703.836791, obj_old: 5508.959109, obj_new: 5508.157117 \n",
      "size of active set: 317530\n",
      "start coordinate descent!\n",
      "time: 707.623547, obj_old: 5508.157117, obj_new: 5507.362281 \n",
      "size of active set: 317378\n",
      "start coordinate descent!\n",
      "time: 711.384316, obj_old: 5507.362281, obj_new: 5506.597227 \n",
      "size of active set: 317337\n",
      "start coordinate descent!\n",
      "time: 715.129692, obj_old: 5506.597227, obj_new: 5505.848368 \n",
      "size of active set: 317178\n",
      "start coordinate descent!\n",
      "time: 718.934719, obj_old: 5505.848368, obj_new: 5505.116394 \n",
      "size of active set: 317254\n",
      "start coordinate descent!\n",
      "time: 722.861088, obj_old: 5505.116394, obj_new: 5504.395650 \n",
      "size of active set: 316989\n",
      "start coordinate descent!\n",
      "time: 726.524852, obj_old: 5504.395650, obj_new: 5503.690494 \n",
      "size of active set: 316969\n",
      "start coordinate descent!\n",
      "time: 730.167151, obj_old: 5503.690494, obj_new: 5502.999864 \n",
      "size of active set: 316891\n",
      "start coordinate descent!\n",
      "time: 733.886954, obj_old: 5502.999864, obj_new: 5502.318004 \n",
      "size of active set: 316805\n",
      "start coordinate descent!\n",
      "time: 737.634211, obj_old: 5502.318004, obj_new: 5501.655728 \n",
      "size of active set: 316655\n",
      "start coordinate descent!\n",
      "time: 741.366904, obj_old: 5501.655728, obj_new: 5501.006344 \n",
      "size of active set: 316725\n",
      "start coordinate descent!\n",
      "time: 745.043180, obj_old: 5501.006344, obj_new: 5500.367807 \n",
      "size of active set: 316461\n",
      "start coordinate descent!\n",
      "time: 748.794426, obj_old: 5500.367807, obj_new: 5499.739712 \n",
      "size of active set: 316404\n",
      "start coordinate descent!\n",
      "time: 752.582920, obj_old: 5499.739712, obj_new: 5499.133142 \n",
      "size of active set: 316454\n",
      "start coordinate descent!\n",
      "time: 756.344811, obj_old: 5499.133142, obj_new: 5498.525230 \n",
      "size of active set: 316237\n",
      "start coordinate descent!\n",
      "time: 760.059369, obj_old: 5498.525230, obj_new: 5497.928109 \n",
      "size of active set: 316107\n",
      "start coordinate descent!\n",
      "time: 764.485051, obj_old: 5497.928109, obj_new: 5497.356298 \n",
      "size of active set: 316133\n",
      "start coordinate descent!\n",
      "time: 768.786749, obj_old: 5497.356298, obj_new: 5496.785814 \n",
      "size of active set: 316071\n",
      "start coordinate descent!\n",
      "time: 772.517189, obj_old: 5496.785814, obj_new: 5496.226819 \n",
      "size of active set: 315869\n",
      "start coordinate descent!\n",
      "time: 776.169889, obj_old: 5496.226819, obj_new: 5495.682459 \n",
      "size of active set: 315768\n",
      "start coordinate descent!\n",
      "time: 779.852595, obj_old: 5495.682459, obj_new: 5495.146205 \n",
      "size of active set: 315655\n",
      "start coordinate descent!\n",
      "time: 783.563520, obj_old: 5495.146205, obj_new: 5494.619609 \n",
      "size of active set: 315638\n",
      "start coordinate descent!\n",
      "time: 787.150697, obj_old: 5494.619609, obj_new: 5494.106131 \n",
      "size of active set: 315522\n",
      "start coordinate descent!\n",
      "time: 790.800425, obj_old: 5494.106131, obj_new: 5493.599823 \n",
      "size of active set: 315347\n",
      "start coordinate descent!\n",
      "time: 794.479334, obj_old: 5493.599823, obj_new: 5493.110097 \n",
      "size of active set: 315287\n",
      "start coordinate descent!\n",
      "time: 798.195628, obj_old: 5493.110097, obj_new: 5492.620740 \n",
      "size of active set: 315291\n",
      "start coordinate descent!\n",
      "time: 801.860797, obj_old: 5492.620740, obj_new: 5492.147076 \n",
      "size of active set: 315138\n",
      "start coordinate descent!\n",
      "time: 805.573814, obj_old: 5492.147076, obj_new: 5491.678599 \n",
      "size of active set: 315034\n",
      "start coordinate descent!\n",
      "time: 809.296595, obj_old: 5491.678599, obj_new: 5491.216748 \n",
      "size of active set: 314943\n",
      "start coordinate descent!\n",
      "time: 812.998606, obj_old: 5491.216748, obj_new: 5490.764089 \n",
      "size of active set: 314883\n",
      "start coordinate descent!\n",
      "time: 816.720236, obj_old: 5490.764089, obj_new: 5490.324956 \n",
      "size of active set: 314827\n",
      "start coordinate descent!\n",
      "time: 820.405266, obj_old: 5490.324956, obj_new: 5489.893119 \n",
      "size of active set: 314790\n",
      "start coordinate descent!\n",
      "time: 824.119768, obj_old: 5489.893119, obj_new: 5489.461435 \n",
      "size of active set: 314656\n",
      "start coordinate descent!\n",
      "time: 827.859725, obj_old: 5489.461435, obj_new: 5489.042295 \n",
      "size of active set: 314525\n",
      "start coordinate descent!\n",
      "time: 831.840422, obj_old: 5489.042295, obj_new: 5488.639959 \n",
      "size of active set: 314667\n",
      "start coordinate descent!\n",
      "time: 836.381526, obj_old: 5488.639959, obj_new: 5488.236391 \n",
      "size of active set: 314480\n",
      "start coordinate descent!\n",
      "time: 840.230994, obj_old: 5488.236391, obj_new: 5487.845537 \n",
      "size of active set: 314539\n",
      "start coordinate descent!\n",
      "time: 843.980685, obj_old: 5487.845537, obj_new: 5487.464883 \n",
      "size of active set: 314636\n",
      "start coordinate descent!\n",
      "time: 847.644198, obj_old: 5487.464883, obj_new: 5487.077464 \n",
      "size of active set: 314219\n",
      "start coordinate descent!\n",
      "time: 851.260564, obj_old: 5487.077464, obj_new: 5486.707479 \n",
      "size of active set: 314309\n",
      "start coordinate descent!\n",
      "time: 855.229328, obj_old: 5486.707479, obj_new: 5486.338175 \n",
      "size of active set: 314222\n",
      "start coordinate descent!\n",
      "time: 858.840975, obj_old: 5486.338175, obj_new: 5485.979546 \n",
      "size of active set: 314116\n",
      "start coordinate descent!\n",
      "time: 862.495759, obj_old: 5485.979546, obj_new: 5485.622771 \n",
      "size of active set: 313971\n",
      "start coordinate descent!\n",
      "time: 866.336233, obj_old: 5485.622771, obj_new: 5485.276241 \n",
      "size of active set: 313894\n",
      "start coordinate descent!\n",
      "time: 870.015093, obj_old: 5485.276241, obj_new: 5484.936865 \n"
     ]
    },
    {
     "data": {
      "text/plain": [
       "([-0.636832 -0.86213 … -1.95033 -1.43744; 0.0 0.0 … 0.0 0.0; … ; 0.0 0.0 … 0.0 0.0; 0.0 0.0 … 0.0 0.0], Any[3.66332, 20.2258, 32.9189, 43.5652, 52.9219, 61.1165, 68.577, 75.1182, 81.1262, 86.7289  …  836.382, 840.231, 843.981, 847.644, 851.261, 855.229, 858.841, 862.496, 866.336, 870.015], Any[550800.0, 98169.8, 40155.1, 22086.8, 15111.8, 11465.6, 9570.77, 8461.42, 7811.06, 7394.86  …  5488.64, 5488.24, 5487.85, 5487.46, 5487.08, 5486.71, 5486.34, 5485.98, 5485.62, 5485.28], Any[0, 1957218, 1547578, 1314973, 1040612, 862989, 724616, 635544, 570449, 524898  …  313334, 313344, 313246, 313239, 313120, 313132, 313066, 313019, 312921, 312863])"
      ]
     },
     "execution_count": 134,
     "metadata": {},
     "output_type": "execute_result"
    }
   ],
   "source": [
    "include(\"code/prox_newton.jl\")\n",
    "W, time_list, obj_list, nz_list = proximal_newton(X, Y, A, C, lambda,1e-4, 1e-4,200)"
   ]
  },
  {
   "cell_type": "code",
   "execution_count": 135,
   "metadata": {
    "collapsed": true
   },
   "outputs": [],
   "source": [
    "writedlm(\"rcv1_newton.csv\", [time_list obj_list nz_list], ',')"
   ]
  },
  {
   "cell_type": "code",
   "execution_count": 136,
   "metadata": {
    "collapsed": false,
    "scrolled": false
   },
   "outputs": [
    {
     "name": "stdout",
     "output_type": "stream",
     "text": [
      "get gradient complete\n",
      "time: 2.283491, obj: 550800.000000, nz: 0.000000\n",
      "obj complete\n",
      "prox complete\n",
      "prox complete\n",
      "prox complete\n",
      "prox complete\n",
      "prox complete\n",
      "stepsize: 0.0001\n",
      "iter 1 finished!\n",
      "get gradient complete\n",
      "time: 6.477401, obj: 70193.858806, nz: 2317692.000000\n",
      "obj complete\n",
      "prox complete\n",
      "prox complete\n"
     ]
    },
    {
     "ename": "LoadError",
     "evalue": "\u001b[91mInterruptException:\u001b[39m",
     "output_type": "error",
     "traceback": [
      "\u001b[91mInterruptException:\u001b[39m",
      "",
      "Stacktrace:",
      " [1] \u001b[1m*\u001b[22m\u001b[22m\u001b[1m(\u001b[22m\u001b[22m::SparseMatrixCSC{Float64,Int64}, ::Array{Float64,1}\u001b[1m)\u001b[22m\u001b[22m at \u001b[1m./linalg/matmul.jl:79\u001b[22m\u001b[22m",
      " [2] \u001b[1mobj\u001b[22m\u001b[22m\u001b[1m(\u001b[22m\u001b[22m::SparseMatrixCSC{Float64,Int64}, ::SparseMatrixCSC{Float64,Int64}, ::Array{Float64,2}, ::SparseMatrixCSC{Float64,Int64}, ::Int64, ::Float64\u001b[1m)\u001b[22m\u001b[22m at \u001b[1m/Users/fangh/academic/540proj/code/misc.jl:16\u001b[22m\u001b[22m",
      " [3] \u001b[1mproximal_gradient\u001b[22m\u001b[22m\u001b[1m(\u001b[22m\u001b[22m::SparseMatrixCSC{Float64,Int64}, ::SparseMatrixCSC{Float64,Int64}, ::SparseMatrixCSC{Float64,Int64}, ::Int64, ::Float64, ::Float64, ::Int64, ::Int64\u001b[1m)\u001b[22m\u001b[22m at \u001b[1m/Users/fangh/academic/540proj/code/prox_newton.jl:375\u001b[22m\u001b[22m",
      " [4] \u001b[1minclude_string\u001b[22m\u001b[22m\u001b[1m(\u001b[22m\u001b[22m::String, ::String\u001b[1m)\u001b[22m\u001b[22m at \u001b[1m./loading.jl:522\u001b[22m\u001b[22m"
     ]
    }
   ],
   "source": [
    "include(\"code/prox_newton.jl\")\n",
    "#A = adj_mat\n",
    "W_res= proximal_gradient(X, Y, A, C, lambda, 1e-4, 300, 20)"
   ]
  },
  {
   "cell_type": "code",
   "execution_count": 101,
   "metadata": {
    "collapsed": true
   },
   "outputs": [],
   "source": [
    "writedlm(\"diatoms_prox-grad.csv\", [time_list_grad obj_list_grad nz_list_grad], ',')"
   ]
  },
  {
   "cell_type": "code",
   "execution_count": 84,
   "metadata": {
    "collapsed": false
   },
   "outputs": [
    {
     "data": {
      "text/plain": [
       "4817970"
      ]
     },
     "execution_count": 84,
     "metadata": {},
     "output_type": "execute_result"
    }
   ],
   "source": [
    "D*K"
   ]
  },
  {
   "cell_type": "code",
   "execution_count": 132,
   "metadata": {
    "collapsed": false
   },
   "outputs": [
    {
     "name": "stdout",
     "output_type": "stream",
     "text": [
      "Iter =     0, Obj = 5.50800e+05 \n",
      "time =    13, Iter =   500, i = 4137, j = 7, Obj = 4.85347e+05 \n",
      "time =    31, Iter =  1000, i = 4500, j = 100, Obj = 4.28159e+05 \n",
      "time =    48, Iter =  1500, i = 4717, j = 60, Obj = 3.81995e+05 \n",
      "time =    66, Iter =  2000, i = 2986, j = 76, Obj = 3.39841e+05 \n",
      "time =    83, Iter =  2500, i = 4383, j = 75, Obj = 3.03567e+05 \n",
      "time =   102, Iter =  3000, i = 4207, j = 71, Obj = 2.70723e+05 \n",
      "time =   123, Iter =  3500, i = 446, j = 92, Obj = 2.42497e+05 \n",
      "time =   143, Iter =  4000, i = 4230, j = 40, Obj = 2.18486e+05 \n",
      "time =   163, Iter =  4500, i = 4700, j = 63, Obj = 1.97681e+05 \n",
      "time =   184, Iter =  5000, i = 775, j = 89, Obj = 1.79666e+05 \n",
      "time =   206, Iter =  5500, i = 161, j = 28, Obj = 1.64881e+05 \n",
      "time =   227, Iter =  6000, i = 690, j = 12, Obj = 1.50772e+05 \n",
      "time =   249, Iter =  6500, i = 1872, j = 64, Obj = 1.39029e+05 \n",
      "time =   270, Iter =  7000, i = 2307, j = 52, Obj = 1.28780e+05 \n",
      "time =   293, Iter =  7500, i = 4928, j = 51, Obj = 1.19486e+05 \n",
      "time =   318, Iter =  8000, i = 4742, j = 28, Obj = 1.11759e+05 \n",
      "time =   341, Iter =  8500, i = 1959, j = 101, Obj = 1.05050e+05 \n",
      "time =   364, Iter =  9000, i = 100, j = 73, Obj = 9.87964e+04 \n",
      "time =   387, Iter =  9500, i = 3052, j = 2, Obj = 9.32880e+04 \n",
      "time =   411, Iter = 10000, i = 1144, j = 11, Obj = 8.86490e+04 \n",
      "time =   435, Iter = 10500, i = 596, j = 48, Obj = 8.49327e+04 \n",
      "time =   459, Iter = 11000, i = 792, j = 87, Obj = 8.09922e+04 \n",
      "time =   483, Iter = 11500, i = 5015, j = 69, Obj = 7.76606e+04 \n",
      "time =   506, Iter = 12000, i = 5192, j = 85, Obj = 7.52859e+04 \n",
      "time =   531, Iter = 12500, i = 2295, j = 28, Obj = 7.28622e+04 \n",
      "time =   557, Iter = 13000, i = 4225, j = 32, Obj = 7.08712e+04 \n",
      "time =   583, Iter = 13500, i = 5126, j = 88, Obj = 6.90889e+04 \n",
      "time =   606, Iter = 14000, i = 4333, j = 60, Obj = 6.75970e+04 \n",
      "time =   632, Iter = 14500, i = 1047, j = 82, Obj = 6.61220e+04 \n",
      "time =   658, Iter = 15000, i = 1949, j = 68, Obj = 6.48486e+04 \n",
      "time =   683, Iter = 15500, i = 2915, j = 8, Obj = 6.38021e+04 \n",
      "time =   709, Iter = 16000, i = 3352, j = 75, Obj = 6.29481e+04 \n",
      "time =   742, Iter = 16500, i = 793, j = 45, Obj = 6.20930e+04 \n",
      "time =   773, Iter = 17000, i = 2423, j = 3, Obj = 6.14653e+04 \n",
      "time =   800, Iter = 17500, i = 3197, j = 88, Obj = 6.07325e+04 \n",
      "time =   831, Iter = 18000, i = 2479, j = 90, Obj = 6.00746e+04 \n",
      "time =   861, Iter = 18500, i = 3564, j = 83, Obj = 5.93901e+04 \n",
      "time =   889, Iter = 19000, i = 4648, j = 48, Obj = 5.89082e+04 \n",
      "time =   916, Iter = 19500, i = 832, j = 88, Obj = 5.84186e+04 \n",
      "time =   945, Iter = 20000, i = 4781, j = 54, Obj = 5.79395e+04 \n",
      "elapsed time: 0.000343355 seconds\n"
     ]
    },
    {
     "data": {
      "text/plain": [
       "([-0.497351 -0.606857 … -0.72763 -0.735255; 0.0 0.0 … 0.0 0.0; … ; 0.0 0.0 … 0.0 0.0; 0.0 0.0 … 0.0 0.0], Any[13.2922, 30.7374, 47.9108, 65.5592, 83.3663, 102.076, 122.593, 142.544, 162.782, 184.338  …  683.383, 709.109, 741.57, 773.165, 800.044, 830.92, 860.771, 889.172, 915.561, 944.8], Any[4.85347e5, 428159.0, 3.81995e5, 3.39841e5, 3.03567e5, 2.70723e5, 2.42497e5, 2.18486e5, 197681.0, 1.79666e5  …  63802.1, 62948.1, 62093.0, 61465.3, 60732.5, 60074.6, 59390.1, 58908.2, 58418.6, 57939.5], Any[65246, 124087, 161081, 196788, 223346, 247190, 274721, 298632, 319463, 343033  …  613875, 620660, 633434, 645384, 646137, 658227, 663948, 673259, 673704, 683302])"
      ]
     },
     "execution_count": 132,
     "metadata": {},
     "output_type": "execute_result"
    }
   ],
   "source": [
    "include(\"code/SGD.jl\")\n",
    "W_res, time_list_sgd, obj_list_sgd, nz_list_sgd = mainStochastic(X, Y, K, A, C, lambda,stepsize=(i)->1e-8, maxIter=2e4)"
   ]
  },
  {
   "cell_type": "code",
   "execution_count": 133,
   "metadata": {
    "collapsed": true
   },
   "outputs": [],
   "source": [
    "writedlm(\"rcv1_sgd.csv\", [time_list_sgd obj_list_sgd nz_list_sgd], ',')"
   ]
  },
  {
   "cell_type": "code",
   "execution_count": 128,
   "metadata": {
    "collapsed": false
   },
   "outputs": [
    {
     "data": {
      "text/plain": [
       "200-element Array{Any,1}:\n",
       " 101763\n",
       " 118908\n",
       " 121271\n",
       " 122388\n",
       " 122388\n",
       " 122388\n",
       " 122388\n",
       " 122388\n",
       " 122388\n",
       " 122388\n",
       " 122388\n",
       " 122388\n",
       " 122388\n",
       "      ⋮\n",
       " 122388\n",
       " 122388\n",
       " 122388\n",
       " 122388\n",
       " 122388\n",
       " 122388\n",
       " 122388\n",
       " 122387\n",
       " 122387\n",
       " 122388\n",
       " 122388\n",
       " 122388"
      ]
     },
     "execution_count": 128,
     "metadata": {},
     "output_type": "execute_result"
    }
   ],
   "source": [
    "nz_list_sgd"
   ]
  },
  {
   "cell_type": "code",
   "execution_count": null,
   "metadata": {
    "collapsed": true
   },
   "outputs": [],
   "source": []
  }
 ],
 "metadata": {
  "kernelspec": {
   "display_name": "Julia 0.6.2",
   "language": "julia",
   "name": "julia-0.6"
  },
  "language_info": {
   "file_extension": ".jl",
   "mimetype": "application/julia",
   "name": "julia",
   "version": "0.6.2"
  }
 },
 "nbformat": 4,
 "nbformat_minor": 1
}
