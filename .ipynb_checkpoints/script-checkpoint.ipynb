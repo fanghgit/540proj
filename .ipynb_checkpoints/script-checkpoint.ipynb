{
 "cells": [
  {
   "cell_type": "code",
   "execution_count": 2,
   "metadata": {
    "collapsed": false
   },
   "outputs": [
    {
     "data": {
      "text/plain": [
       "read (generic function with 1 method)"
      ]
     },
     "execution_count": 2,
     "metadata": {},
     "output_type": "execute_result"
    }
   ],
   "source": [
    "include(\"code/readData.jl\")"
   ]
  },
  {
   "cell_type": "code",
   "execution_count": 43,
   "metadata": {
    "collapsed": false
   },
   "outputs": [
    {
     "data": {
      "text/plain": [
       "2807×329 SparseMatrixCSC{Float64,Int64} with 2807 stored entries:\n",
       "  [1   ,    1]  =  1.0\n",
       "  [2   ,    2]  =  1.0\n",
       "  [400 ,    2]  =  1.0\n",
       "  [401 ,    2]  =  1.0\n",
       "  [1341,    2]  =  1.0\n",
       "  [1342,    2]  =  1.0\n",
       "  [2239,    2]  =  1.0\n",
       "  [3   ,    3]  =  1.0\n",
       "  [4   ,    4]  =  1.0\n",
       "  [15  ,    4]  =  1.0\n",
       "  ⋮\n",
       "  [2456,  323]  =  1.0\n",
       "  [2457,  323]  =  1.0\n",
       "  [2462,  324]  =  1.0\n",
       "  [2463,  324]  =  1.0\n",
       "  [2464,  324]  =  1.0\n",
       "  [2473,  325]  =  1.0\n",
       "  [2506,  326]  =  1.0\n",
       "  [2510,  327]  =  1.0\n",
       "  [2511,  327]  =  1.0\n",
       "  [2512,  328]  =  1.0\n",
       "  [2529,  329]  =  1.0"
      ]
     },
     "execution_count": 43,
     "metadata": {},
     "output_type": "execute_result"
    }
   ],
   "source": [
    "X, Y = read(\"data/diatoms/train_remap.txt\");\n",
    "K = size(Y, 1)\n",
    "adj_mat = read_cat_hier(\"data/diatoms/hr_remap.txt\", K)\n",
    "Y = Y'"
   ]
  },
  {
   "cell_type": "code",
   "execution_count": 45,
   "metadata": {
    "collapsed": false
   },
   "outputs": [
    {
     "name": "stdout",
     "output_type": "stream",
     "text": [
      "(2807, 371)\n",
      "(2807, 329)\n"
     ]
    },
    {
     "data": {
      "text/plain": [
       "329"
      ]
     },
     "execution_count": 45,
     "metadata": {},
     "output_type": "execute_result"
    }
   ],
   "source": [
    "println(size(X))\n",
    "println(size(Y))\n",
    "N, D = size(X)\n",
    "X = [ones(N) X]\n",
    "K = size(Y,2)"
   ]
  },
  {
   "cell_type": "code",
   "execution_count": 47,
   "metadata": {
    "collapsed": false
   },
   "outputs": [
    {
     "data": {
      "text/plain": [
       "SparseMatrixCSC{Float64,Int64}"
      ]
     },
     "execution_count": 47,
     "metadata": {},
     "output_type": "execute_result"
    }
   ],
   "source": [
    "typeof(X)"
   ]
  },
  {
   "cell_type": "code",
   "execution_count": 40,
   "metadata": {
    "collapsed": false
   },
   "outputs": [
    {
     "data": {
      "text/plain": [
       "([3], [1])"
      ]
     },
     "execution_count": 40,
     "metadata": {},
     "output_type": "execute_result"
    }
   ],
   "source": [
    "findnz(A1)"
   ]
  },
  {
   "cell_type": "code",
   "execution_count": 4,
   "metadata": {
    "collapsed": false
   },
   "outputs": [
    {
     "data": {
      "text/plain": [
       "linesearch (generic function with 4 methods)"
      ]
     },
     "execution_count": 4,
     "metadata": {},
     "output_type": "execute_result"
    }
   ],
   "source": [
    "include(\"code/misc.jl\")"
   ]
  },
  {
   "cell_type": "code",
   "execution_count": 7,
   "metadata": {
    "collapsed": false
   },
   "outputs": [
    {
     "data": {
      "text/plain": [
       "0.1"
      ]
     },
     "execution_count": 7,
     "metadata": {},
     "output_type": "execute_result"
    }
   ],
   "source": [
    "W = zeros(D, K)\n",
    "C = 1\n",
    "lambda = 0.1\n",
    "#obj(X,Y,W,adj_mat,C,lambda)"
   ]
  },
  {
   "cell_type": "code",
   "execution_count": 14,
   "metadata": {
    "collapsed": false
   },
   "outputs": [
    {
     "name": "stdout",
     "output_type": "stream",
     "text": [
      "get gradient complete\n",
      "obj complete\n",
      "prox complete\n",
      "prox complete\n",
      "prox complete\n",
      "prox complete\n",
      "prox complete\n",
      "prox complete\n",
      "prox complete\n",
      "prox complete\n",
      "prox complete\n",
      "prox complete\n",
      "stepsize: 0.001953125\n",
      "iter 1 finished!\n",
      "get gradient complete\n",
      "obj complete\n",
      "prox complete\n",
      "prox complete\n",
      "prox complete\n",
      "prox complete\n",
      "prox complete\n",
      "prox complete\n",
      "prox complete\n",
      "prox complete\n",
      "prox complete\n",
      "prox complete\n",
      "stepsize: 0.001953125\n",
      "iter 2 finished!\n",
      "get gradient complete\n",
      "obj complete\n",
      "prox complete\n",
      "prox complete\n",
      "prox complete\n",
      "prox complete\n",
      "prox complete\n"
     ]
    },
    {
     "ename": "LoadError",
     "evalue": "\u001b[91mInterruptException:\u001b[39m",
     "output_type": "error",
     "traceback": [
      "\u001b[91mInterruptException:\u001b[39m",
      "",
      "Stacktrace:",
      " [1] \u001b[1mbroadcast_t\u001b[22m\u001b[22m at \u001b[1m./broadcast.jl:268\u001b[22m\u001b[22m [inlined]",
      " [2] \u001b[1mbroadcast_c\u001b[22m\u001b[22m at \u001b[1m./broadcast.jl:316\u001b[22m\u001b[22m [inlined]",
      " [3] \u001b[1mbroadcast\u001b[22m\u001b[22m at \u001b[1m./broadcast.jl:455\u001b[22m\u001b[22m [inlined]",
      " [4] \u001b[1m-\u001b[22m\u001b[22m\u001b[1m(\u001b[22m\u001b[22m::Array{Float64,1}, ::Array{Float64,1}\u001b[1m)\u001b[22m\u001b[22m at \u001b[1m./arraymath.jl:39\u001b[22m\u001b[22m",
      " [5] \u001b[1mobj\u001b[22m\u001b[22m\u001b[1m(\u001b[22m\u001b[22m::SparseMatrixCSC{Float64,Int64}, ::SparseMatrixCSC{Float64,Int64}, ::Array{Float64,2}, ::SparseMatrixCSC{Float64,Int64}, ::Int64, ::Float64\u001b[1m)\u001b[22m\u001b[22m at \u001b[1m/Users/fangh/academic/540proj/code/misc.jl:30\u001b[22m\u001b[22m",
      " [6] \u001b[1mproximal_gradient\u001b[22m\u001b[22m\u001b[1m(\u001b[22m\u001b[22m::SparseMatrixCSC{Float64,Int64}, ::SparseMatrixCSC{Float64,Int64}, ::SparseMatrixCSC{Float64,Int64}, ::Int64, ::Float64, ::Float64, ::Int64, ::Int64\u001b[1m)\u001b[22m\u001b[22m at \u001b[1m/Users/fangh/academic/540proj/code/prox_newton.jl:181\u001b[22m\u001b[22m",
      " [7] \u001b[1mproximal_gradient\u001b[22m\u001b[22m\u001b[1m(\u001b[22m\u001b[22m::SparseMatrixCSC{Float64,Int64}, ::SparseMatrixCSC{Float64,Int64}, ::SparseMatrixCSC{Float64,Int64}, ::Int64, ::Float64\u001b[1m)\u001b[22m\u001b[22m at \u001b[1m/Users/fangh/academic/540proj/code/prox_newton.jl:143\u001b[22m\u001b[22m",
      " [8] \u001b[1minclude_string\u001b[22m\u001b[22m\u001b[1m(\u001b[22m\u001b[22m::String, ::String\u001b[1m)\u001b[22m\u001b[22m at \u001b[1m./loading.jl:522\u001b[22m\u001b[22m"
     ]
    }
   ],
   "source": [
    "include(\"code/prox_newton.jl\")\n",
    "A = adj_mat\n",
    "W_res = proximal_gradient(X, Y, A, C, lambda)"
   ]
  },
  {
   "cell_type": "code",
   "execution_count": 28,
   "metadata": {
    "collapsed": false
   },
   "outputs": [
    {
     "data": {
      "text/plain": [
       "1.0"
      ]
     },
     "execution_count": 28,
     "metadata": {},
     "output_type": "execute_result"
    }
   ],
   "source": [
    "sum(Y[:,3])"
   ]
  },
  {
   "cell_type": "code",
   "execution_count": 29,
   "metadata": {
    "collapsed": false
   },
   "outputs": [
    {
     "data": {
      "text/plain": [
       "5×5 Array{Float64,2}:\n",
       " 1.0  0.0  0.0  0.0  0.0\n",
       " 0.0  1.0  0.0  0.0  0.0\n",
       " 0.0  0.0  1.0  0.0  0.0\n",
       " 0.0  0.0  0.0  1.0  0.0\n",
       " 0.0  0.0  0.0  0.0  1.0"
      ]
     },
     "execution_count": 29,
     "metadata": {},
     "output_type": "execute_result"
    }
   ],
   "source": [
    "eye(5)"
   ]
  },
  {
   "cell_type": "code",
   "execution_count": 3,
   "metadata": {
    "collapsed": false
   },
   "outputs": [
    {
     "name": "stdout",
     "output_type": "stream",
     "text": [
      "(2807, 371)\n",
      "(2807, 329)\n"
     ]
    },
    {
     "data": {
      "text/plain": [
       "329"
      ]
     },
     "execution_count": 3,
     "metadata": {},
     "output_type": "execute_result"
    }
   ],
   "source": [
    "X, Y = read(\"data/diatoms/train_remap.txt\");\n",
    "K = size(Y, 1)\n",
    "adj_mat = read_cat_hier(\"data/diatoms/hr_remap.txt\", K)\n",
    "Y = Y'\n",
    "println(size(X))\n",
    "println(size(Y))\n",
    "N, D = size(X)\n",
    "X = [ones(N) X]\n",
    "K = size(Y,2)"
   ]
  },
  {
   "cell_type": "code",
   "execution_count": 19,
   "metadata": {
    "collapsed": false
   },
   "outputs": [
    {
     "data": {
      "text/plain": [
       "100×5 SparseMatrixCSC{Float64,Int64} with 11 stored entries:\n",
       "  [1  ,   1]  =  1.0\n",
       "  [2  ,   2]  =  1.0\n",
       "  [3  ,   3]  =  1.0\n",
       "  [4  ,   4]  =  1.0\n",
       "  [15 ,   4]  =  1.0\n",
       "  [17 ,   4]  =  1.0\n",
       "  [22 ,   4]  =  1.0\n",
       "  [66 ,   4]  =  1.0\n",
       "  [67 ,   4]  =  1.0\n",
       "  [75 ,   4]  =  1.0\n",
       "  [95 ,   4]  =  1.0"
      ]
     },
     "execution_count": 19,
     "metadata": {},
     "output_type": "execute_result"
    }
   ],
   "source": [
    "K = 5\n",
    "D = 50\n",
    "N = 100\n",
    "X = X[1:N,1:D]\n",
    "A = adj_mat[5:(4+K),5:(4+K)]\n",
    "A = [0 1 0 0 0;\n",
    "     1 0 1 0 0\n",
    "     0 1 0 0 1\n",
    "     0 0 0 0 0\n",
    "     0 0 1 0 0]\n",
    "A = sparse(A)\n",
    "Y = Y[1:N, 1:K]"
   ]
  },
  {
   "cell_type": "code",
   "execution_count": 20,
   "metadata": {
    "collapsed": false
   },
   "outputs": [
    {
     "data": {
      "text/plain": [
       "0.0"
      ]
     },
     "execution_count": 20,
     "metadata": {},
     "output_type": "execute_result"
    }
   ],
   "source": [
    "#kron(A,eye(3))\n",
    "vecnorm(A - A')"
   ]
  },
  {
   "cell_type": "code",
   "execution_count": 22,
   "metadata": {
    "collapsed": false
   },
   "outputs": [
    {
     "name": "stdout",
     "output_type": "stream",
     "text": [
      "size of active set: 250\n",
      "start coordinate descent!\n",
      "h0: 6.705691, h0_check: 4.705691, H_check[]: 4.705691\n"
     ]
    },
    {
     "ename": "LoadError",
     "evalue": "\u001b[91mh0 check fails\u001b[39m",
     "output_type": "error",
     "traceback": [
      "\u001b[91mh0 check fails\u001b[39m",
      "",
      "Stacktrace:",
      " [1] \u001b[1mproximal_newton\u001b[22m\u001b[22m\u001b[1m(\u001b[22m\u001b[22m::SparseMatrixCSC{Float64,Int64}, ::SparseMatrixCSC{Float64,Int64}, ::SparseMatrixCSC{Int64,Int64}, ::Int64, ::Float64, ::Float64, ::Float64, ::Int64\u001b[1m)\u001b[22m\u001b[22m at \u001b[1m/Users/fangh/academic/540proj/code/prox_newton.jl:259\u001b[22m\u001b[22m",
      " [2] \u001b[1mproximal_newton\u001b[22m\u001b[22m\u001b[1m(\u001b[22m\u001b[22m::SparseMatrixCSC{Float64,Int64}, ::SparseMatrixCSC{Float64,Int64}, ::SparseMatrixCSC{Int64,Int64}, ::Int64, ::Float64\u001b[1m)\u001b[22m\u001b[22m at \u001b[1m/Users/fangh/academic/540proj/code/prox_newton.jl:124\u001b[22m\u001b[22m",
      " [3] \u001b[1minclude_string\u001b[22m\u001b[22m\u001b[1m(\u001b[22m\u001b[22m::String, ::String\u001b[1m)\u001b[22m\u001b[22m at \u001b[1m./loading.jl:522\u001b[22m\u001b[22m"
     ]
    }
   ],
   "source": [
    "include(\"code/prox_newton.jl\")\n",
    "W_res = proximal_newton(X, Y, A, C, lambda)"
   ]
  },
  {
   "cell_type": "code",
   "execution_count": 71,
   "metadata": {
    "collapsed": false
   },
   "outputs": [
    {
     "data": {
      "text/plain": [
       "4×4 Array{Float64,2}:\n",
       " 1.0  2.0  0.0  0.0\n",
       " 3.0  4.0  0.0  0.0\n",
       " 0.0  0.0  1.0  2.0\n",
       " 0.0  0.0  3.0  4.0"
      ]
     },
     "execution_count": 71,
     "metadata": {},
     "output_type": "execute_result"
    }
   ],
   "source": [
    "kron(eye(2), [1 2; 3 4])"
   ]
  },
  {
   "cell_type": "code",
   "execution_count": null,
   "metadata": {
    "collapsed": true
   },
   "outputs": [],
   "source": []
  }
 ],
 "metadata": {
  "kernelspec": {
   "display_name": "Julia 0.6.2",
   "language": "julia",
   "name": "julia-0.6"
  },
  "language_info": {
   "file_extension": ".jl",
   "mimetype": "application/julia",
   "name": "julia",
   "version": "0.6.2"
  }
 },
 "nbformat": 4,
 "nbformat_minor": 1
}
